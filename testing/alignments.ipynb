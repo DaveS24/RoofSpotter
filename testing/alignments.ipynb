{
 "cells": [
  {
   "cell_type": "code",
   "execution_count": 45,
   "metadata": {},
   "outputs": [],
   "source": [
    "import os\n",
    "os.environ['KMP_DUPLICATE_LIB_OK']='True'\n",
    "\n",
    "import sys\n",
    "sys.path.append('../src')\n",
    "\n",
    "import numpy as np\n",
    "import random\n",
    "import tensorflow as tf\n",
    "\n",
    "import matplotlib.pyplot as plt"
   ]
  },
  {
   "cell_type": "code",
   "execution_count": 46,
   "metadata": {},
   "outputs": [],
   "source": [
    "np.random.seed(0)\n",
    "random.seed(0)\n",
    "tf.random.set_seed(0)\n",
    "\n",
    "DEFAULT_COLORS = ['b', 'g', 'r', 'c', 'm', 'y', 'k']\n",
    "fm_offset = -0.5"
   ]
  },
  {
   "cell_type": "code",
   "execution_count": 47,
   "metadata": {},
   "outputs": [
    {
     "name": "stdout",
     "output_type": "stream",
     "text": [
      "(3, 8, 8, 2048)\n",
      "(3, 4, 4)\n"
     ]
    }
   ],
   "source": [
    "feature_maps = tf.Variable(tf.random.uniform((3, 8, 8, 2048), minval=0, maxval=10))\n",
    "print(feature_maps.shape)\n",
    "\n",
    "roi_boxes = tf.Variable(tf.random.uniform((3, 4, 4), minval=0, maxval=8))\n",
    "\n",
    "x1, y1, x2, y2 = tf.unstack(roi_boxes, axis=-1)\n",
    "x1, x2 = tf.minimum(x1, x2), tf.maximum(x1, x2)\n",
    "y1, y2 = tf.minimum(y1, y2), tf.maximum(y1, y2)\n",
    "roi_boxes = tf.stack([x1, y1, x2, y2], axis=-1)\n",
    "print(roi_boxes.shape)"
   ]
  },
  {
   "cell_type": "code",
   "execution_count": 48,
   "metadata": {},
   "outputs": [
    {
     "data": {
      "image/png": "[encoded data removed]",
      "text/plain": [
       "<Figure size 1500x500 with 3 Axes>"
      ]
     },
     "metadata": {},
     "output_type": "display_data"
    }
   ],
   "source": [
    "fig, axes = plt.subplots(1, 3, figsize=(15, 5))\n",
    "\n",
    "for batch in range(3):\n",
    "    axes[batch].imshow(np.mean(feature_maps[batch], axis=-1), cmap='gray')\n",
    "\n",
    "    for i, roi in enumerate(roi_boxes[batch]):\n",
    "        x1, y1, x2, y2 = roi\n",
    "        x1, y1, x2, y2 = x1 + fm_offset, y1 + fm_offset, x2 + fm_offset, y2 + fm_offset\n",
    "        color = DEFAULT_COLORS[i % len(DEFAULT_COLORS)]\n",
    "\n",
    "        axes[batch].add_patch(plt.Rectangle((x1, y1), x2 - x1, y2 - y1, fill=False, edgecolor=color, lw=1))\n",
    "\n",
    "for ax in axes:\n",
    "    ax.axis('off')\n",
    "\n",
    "plt.show()"
   ]
  },
  {
   "cell_type": "code",
   "execution_count": 49,
   "metadata": {},
   "outputs": [
    {
     "name": "stdout",
     "output_type": "stream",
     "text": [
      "tf.Tensor(\n",
      "[[[4.4433126  1.7703438  6.9193993  6.2182684 ]\n",
      "  [0.11552811 4.242898   5.1609335  6.9880733 ]\n",
      "  [3.7577744  3.093831   7.0892315  5.0943136 ]\n",
      "  [0.01501369 6.862108   0.8630352  7.6804914 ]]\n",
      "\n",
      " [[0.967926   1.1935177  1.6910467  5.300149  ]\n",
      "  [0.5012083  5.2566137  7.896982   6.757041  ]\n",
      "  [3.6921349  6.12819    7.1199865  7.869047  ]\n",
      "  [3.6720161  2.3688889  6.007783   5.429879  ]]\n",
      "\n",
      " [[2.0533676  5.2676706  6.27271    7.9085827 ]\n",
      "  [1.7291546  0.14058495 3.9928284  0.78204346]\n",
      "  [6.8632708  3.777359   7.7500734  6.8535748 ]\n",
      "  [4.194518   5.501151   4.6796875  5.795802  ]]], shape=(3, 4, 4), dtype=float32)\n"
     ]
    }
   ],
   "source": [
    "print(roi_boxes)"
   ]
  },
  {
   "cell_type": "code",
   "execution_count": 50,
   "metadata": {},
   "outputs": [
    {
     "name": "stdout",
     "output_type": "stream",
     "text": [
      "tf.Tensor(\n",
      "[[2.4760866 5.0454054 3.3314571 0.8480215]\n",
      " [0.7231207 7.395774  3.4278517 2.3357668]\n",
      " [4.219342  2.2636738 0.8868027 0.4851694]], shape=(3, 4), dtype=float32)\n",
      "tf.Tensor(\n",
      "[[4.4479246  2.7451754  2.0004826  0.8183832 ]\n",
      " [4.1066313  1.5004272  1.7408571  3.0609903 ]\n",
      " [2.640912   0.6414585  3.0762157  0.29465103]], shape=(3, 4), dtype=float32)\n"
     ]
    }
   ],
   "source": [
    "len_x = roi_boxes[:, :, 2] - roi_boxes[:, :, 0]\n",
    "len_y = roi_boxes[:, :, 3] - roi_boxes[:, :, 1]\n",
    "\n",
    "print(len_x)\n",
    "print(len_y)"
   ]
  },
  {
   "cell_type": "code",
   "execution_count": 51,
   "metadata": {},
   "outputs": [
    {
     "name": "stdout",
     "output_type": "stream",
     "text": [
      "tf.Tensor(\n",
      "[[4.5317445  0.29572117 3.876755   0.04530018]\n",
      " [0.99375176 0.76534307 3.814558   3.7554364 ]\n",
      " [2.2040584  1.8100001  6.8949423  4.2118454 ]], shape=(3, 4), dtype=float32)\n",
      "tf.Tensor(\n",
      "[[1.9291983  4.34094    3.1652768  6.8913364 ]\n",
      " [1.3401831  5.3102     6.1903634  2.47821   ]\n",
      " [5.361989   0.16349418 3.887224   5.5116744 ]], shape=(3, 4), dtype=float32)\n"
     ]
    }
   ],
   "source": [
    "start_x = roi_boxes[:, :, 0] + len_x / (7 * 4)\n",
    "start_y = roi_boxes[:, :, 1] + len_y / (7 * 4)\n",
    "\n",
    "print(start_x)\n",
    "print(start_y)"
   ]
  },
  {
   "cell_type": "code",
   "execution_count": 52,
   "metadata": {},
   "outputs": [
    {
     "name": "stdout",
     "output_type": "stream",
     "text": [
      "tf.Tensor(\n",
      "[[6.8309674 4.9807405 6.970251  0.8327487]\n",
      " [1.665221  7.6328473 6.9975634 5.9243627]\n",
      " [6.122019  3.9119828 7.718402  4.66236  ]], shape=(3, 4), dtype=float32)\n",
      "tf.Tensor(\n",
      "[[6.059414   6.8900313  5.0228677  7.651263  ]\n",
      " [5.1534834  6.7034545  7.806874   5.320558  ]\n",
      " [7.8142643  0.75913423 6.74371    5.785279  ]], shape=(3, 4), dtype=float32)\n"
     ]
    }
   ],
   "source": [
    "end_x = roi_boxes[:, :, 2] - len_x / (7 * 4)\n",
    "end_y = roi_boxes[:, :, 3] - len_y / (7 * 4)\n",
    "\n",
    "print(end_x)\n",
    "print(end_y)"
   ]
  },
  {
   "cell_type": "code",
   "execution_count": 53,
   "metadata": {},
   "outputs": [
    {
     "name": "stdout",
     "output_type": "stream",
     "text": [
      "tf.Tensor(\n",
      "[[[4.5317445  4.7086077  4.885471   5.0623345  5.2391977  5.416061\n",
      "   5.592924   5.769788   5.946651   6.123514   6.3003774  6.4772406\n",
      "   6.654104   6.8309674 ]\n",
      "  [0.29572117 0.6561073  1.0164933  1.3768795  1.7372656  2.0976517\n",
      "   2.4580379  2.8184237  3.1788101  3.539196   3.8995824  4.2599683\n",
      "   4.620354   4.9807405 ]\n",
      "  [3.876755   4.114716   4.3526773  4.5906386  4.8286     5.066561\n",
      "   5.3045225  5.5424833  5.780445   6.018406   6.2563677  6.4943285\n",
      "   6.73229    6.970251  ]\n",
      "  [0.04530018 0.10587314 0.1664461  0.22701907 0.28759202 0.348165\n",
      "   0.40873796 0.46931094 0.52988386 0.59045684 0.6510298  0.7116028\n",
      "   0.7721757  0.8327487 ]]\n",
      "\n",
      " [[0.99375176 1.0454032  1.0970547  1.1487062  1.2003577  1.2520092\n",
      "   1.3036606  1.3553121  1.4069636  1.4586151  1.5102665  1.561918\n",
      "   1.6135695  1.665221  ]\n",
      "  [0.76534307 1.2936126  1.8218821  2.3501515  2.8784213  3.4066906\n",
      "   3.9349604  4.4632297  4.9914994  5.519769   6.0480385  6.576308\n",
      "   7.1045775  7.6328473 ]\n",
      "  [3.814558   4.0594044  4.304251   4.5490975  4.7939444  5.0387907\n",
      "   5.2836375  5.528484   5.7733307  6.018177   6.2630234  6.50787\n",
      "   6.752717   6.9975634 ]\n",
      "  [3.7554364  3.922277   4.0891175  4.2559576  4.422798   4.5896387\n",
      "   4.7564793  4.92332    5.0901604  5.257001   5.4238415  5.5906816\n",
      "   5.757522   5.9243627 ]]\n",
      "\n",
      " [[2.2040584  2.50544    2.8068216  3.108203   3.4095845  3.710966\n",
      "   4.0123477  4.3137293  4.615111   4.9164925  5.217874   5.5192556\n",
      "   5.8206367  6.122019  ]\n",
      "  [1.8100001  1.971691   2.133382   2.295073   2.456764   2.618455\n",
      "   2.780146   2.9418368  3.1035278  3.2652187  3.4269097  3.5886006\n",
      "   3.7502918  3.9119828 ]\n",
      "  [6.8949423  6.9582853  7.0216284  7.0849714  7.1483145  7.2116575\n",
      "   7.2750006  7.3383436  7.4016867  7.4650297  7.528373   7.591716\n",
      "   7.655059   7.718402  ]\n",
      "  [4.2118454  4.2465005  4.2811556  4.31581    4.3504653  4.3851204\n",
      "   4.4197755  4.45443    4.489085   4.5237403  4.5583954  4.59305\n",
      "   4.627705   4.66236   ]]], shape=(3, 4, 14), dtype=float32)\n",
      "tf.Tensor(\n",
      "[[[1.9291983  2.2469072  2.5646162  2.882325   3.200034   3.5177429\n",
      "   3.8354516  4.1531606  4.4708695  4.7885785  5.1062875  5.423996\n",
      "   5.741705   6.059414  ]\n",
      "  [4.34094    4.537024   4.733108   4.9291916  5.1252756  5.3213596\n",
      "   5.5174437  5.7135277  5.9096117  6.1056957  6.3017797  6.497864\n",
      "   6.6939473  6.8900313 ]\n",
      "  [3.1652768  3.3081684  3.45106    3.5939517  3.736843   3.879735\n",
      "   4.0226264  4.165518   4.3084097  4.4513016  4.594193   4.7370844\n",
      "   4.8799763  5.0228677 ]\n",
      "  [6.8913364  6.9497924  7.0082483  7.0667043  7.12516    7.183616\n",
      "   7.242072   7.3005276  7.3589835  7.4174395  7.4758954  7.5343513\n",
      "   7.5928073  7.651263  ]]\n",
      "\n",
      " [[1.3401831  1.6335139  1.9268447  2.2201755  2.5135064  2.806837\n",
      "   3.1001678  3.393499   3.6868296  3.9801602  4.273491   4.566822\n",
      "   4.8601527  5.1534834 ]\n",
      "  [5.3102     5.4173737  5.524547   5.6317205  5.738894   5.8460674\n",
      "   5.9532404  6.0604143  6.1675873  6.2747607  6.381934   6.4891076\n",
      "   6.596281   6.7034545 ]\n",
      "  [6.1903634  6.31471    6.4390574  6.563404   6.6877513  6.812098\n",
      "   6.936445   7.060792   7.185139   7.309486   7.433833   7.55818\n",
      "   7.6825266  7.806874  ]\n",
      "  [2.47821    2.6968522  2.9154942  3.1341364  3.3527787  3.5714207\n",
      "   3.790063   4.008705   4.2273474  4.4459896  4.664632   4.883274\n",
      "   5.101916   5.320558  ]]\n",
      "\n",
      " [[5.361989   5.550626   5.739262   5.927899   6.116535   6.305172\n",
      "   6.4938083  6.682445   6.8710814  7.059718   7.2483544  7.436991\n",
      "   7.6256275  7.8142643 ]\n",
      "  [0.16349418 0.20931265 0.25513113 0.30094957 0.34676805 0.39258653\n",
      "   0.43840498 0.48422343 0.53004193 0.5758604  0.6216788  0.6674973\n",
      "   0.7133158  0.75913423]\n",
      "  [3.887224   4.1069536  4.3266835  4.546413   4.766143   4.9858723\n",
      "   5.205602   5.425332   5.6450615  5.864791   6.084521   6.3042507\n",
      "   6.52398    6.74371   ]\n",
      "  [5.5116744  5.532721   5.553767   5.574814   5.5958605  5.6169066\n",
      "   5.6379533  5.659      5.6800466  5.7010927  5.7221394  5.743186\n",
      "   5.764232   5.785279  ]]], shape=(3, 4, 14), dtype=float32)\n"
     ]
    }
   ],
   "source": [
    "line_x = tf.linspace(start_x, end_x, 14, axis=-1)\n",
    "line_y = tf.linspace(start_y, end_y, 14, axis=-1)\n",
    "\n",
    "print(line_x)\n",
    "print(line_y)"
   ]
  },
  {
   "cell_type": "code",
   "execution_count": 54,
   "metadata": {},
   "outputs": [
    {
     "name": "stdout",
     "output_type": "stream",
     "text": [
      "(3, 4, 196, 2)\n",
      "tf.Tensor(\n",
      "[[[[4.5317445  1.9291983 ]\n",
      "   [4.5317445  2.2469072 ]\n",
      "   [4.5317445  2.5646162 ]\n",
      "   ...\n",
      "   [6.8309674  5.423996  ]\n",
      "   [6.8309674  5.741705  ]\n",
      "   [6.8309674  6.059414  ]]\n",
      "\n",
      "  [[0.29572117 4.34094   ]\n",
      "   [0.29572117 4.537024  ]\n",
      "   [0.29572117 4.733108  ]\n",
      "   ...\n",
      "   [4.9807405  6.497864  ]\n",
      "   [4.9807405  6.6939473 ]\n",
      "   [4.9807405  6.8900313 ]]\n",
      "\n",
      "  [[3.876755   3.1652768 ]\n",
      "   [3.876755   3.3081684 ]\n",
      "   [3.876755   3.45106   ]\n",
      "   ...\n",
      "   [6.970251   4.7370844 ]\n",
      "   [6.970251   4.8799763 ]\n",
      "   [6.970251   5.0228677 ]]\n",
      "\n",
      "  [[0.04530018 6.8913364 ]\n",
      "   [0.04530018 6.9497924 ]\n",
      "   [0.04530018 7.0082483 ]\n",
      "   ...\n",
      "   [0.8327487  7.5343513 ]\n",
      "   [0.8327487  7.5928073 ]\n",
      "   [0.8327487  7.651263  ]]]\n",
      "\n",
      "\n",
      " [[[0.99375176 1.3401831 ]\n",
      "   [0.99375176 1.6335139 ]\n",
      "   [0.99375176 1.9268447 ]\n",
      "   ...\n",
      "   [1.665221   4.566822  ]\n",
      "   [1.665221   4.8601527 ]\n",
      "   [1.665221   5.1534834 ]]\n",
      "\n",
      "  [[0.76534307 5.3102    ]\n",
      "   [0.76534307 5.4173737 ]\n",
      "   [0.76534307 5.524547  ]\n",
      "   ...\n",
      "   [7.6328473  6.4891076 ]\n",
      "   [7.6328473  6.596281  ]\n",
      "   [7.6328473  6.7034545 ]]\n",
      "\n",
      "  [[3.814558   6.1903634 ]\n",
      "   [3.814558   6.31471   ]\n",
      "   [3.814558   6.4390574 ]\n",
      "   ...\n",
      "   [6.9975634  7.55818   ]\n",
      "   [6.9975634  7.6825266 ]\n",
      "   [6.9975634  7.806874  ]]\n",
      "\n",
      "  [[3.7554364  2.47821   ]\n",
      "   [3.7554364  2.6968522 ]\n",
      "   [3.7554364  2.9154942 ]\n",
      "   ...\n",
      "   [5.9243627  4.883274  ]\n",
      "   [5.9243627  5.101916  ]\n",
      "   [5.9243627  5.320558  ]]]\n",
      "\n",
      "\n",
      " [[[2.2040584  5.361989  ]\n",
      "   [2.2040584  5.550626  ]\n",
      "   [2.2040584  5.739262  ]\n",
      "   ...\n",
      "   [6.122019   7.436991  ]\n",
      "   [6.122019   7.6256275 ]\n",
      "   [6.122019   7.8142643 ]]\n",
      "\n",
      "  [[1.8100001  0.16349418]\n",
      "   [1.8100001  0.20931265]\n",
      "   [1.8100001  0.25513113]\n",
      "   ...\n",
      "   [3.9119828  0.6674973 ]\n",
      "   [3.9119828  0.7133158 ]\n",
      "   [3.9119828  0.75913423]]\n",
      "\n",
      "  [[6.8949423  3.887224  ]\n",
      "   [6.8949423  4.1069536 ]\n",
      "   [6.8949423  4.3266835 ]\n",
      "   ...\n",
      "   [7.718402   6.3042507 ]\n",
      "   [7.718402   6.52398   ]\n",
      "   [7.718402   6.74371   ]]\n",
      "\n",
      "  [[4.2118454  5.5116744 ]\n",
      "   [4.2118454  5.532721  ]\n",
      "   [4.2118454  5.553767  ]\n",
      "   ...\n",
      "   [4.66236    5.743186  ]\n",
      "   [4.66236    5.764232  ]\n",
      "   [4.66236    5.785279  ]]]], shape=(3, 4, 196, 2), dtype=float32)\n"
     ]
    }
   ],
   "source": [
    "line_x = tf.reshape(line_x, [3, 4, 14, 1, 1])\n",
    "line_y = tf.reshape(line_y, [3, 4, 1, 14, 1])\n",
    "\n",
    "line_x = tf.broadcast_to(line_x, [3, 4, 14, 14, 1])\n",
    "line_y = tf.broadcast_to(line_y, [3, 4, 14, 14, 1])\n",
    "\n",
    "line_x = tf.reshape(line_x, [3, 4, 14 * 14, 1])\n",
    "line_y = tf.reshape(line_y, [3, 4, 14 * 14, 1])\n",
    "\n",
    "grid = tf.concat([line_x, line_y], axis=-1)\n",
    "\n",
    "print(grid.shape)\n",
    "print(grid)"
   ]
  },
  {
   "cell_type": "code",
   "execution_count": 56,
   "metadata": {},
   "outputs": [
    {
     "data": {
      "image/png": "[encoded data removed]",
      "text/plain": [
       "<Figure size 1500x500 with 3 Axes>"
      ]
     },
     "metadata": {},
     "output_type": "display_data"
    }
   ],
   "source": [
    "fig, axes = plt.subplots(1, 3, figsize=(15, 5))\n",
    "\n",
    "for batch in range(3):\n",
    "    axes[batch].imshow(np.mean(feature_maps[batch], axis=-1), cmap='gray')\n",
    "\n",
    "    for i, roi in enumerate(roi_boxes[batch]):\n",
    "        x1, y1, x2, y2 = roi\n",
    "        x1, y1, x2, y2 = x1 + fm_offset, y1 + fm_offset, x2 + fm_offset, y2 + fm_offset\n",
    "        color = DEFAULT_COLORS[i % len(DEFAULT_COLORS)]\n",
    "\n",
    "        axes[batch].add_patch(plt.Rectangle((x1, y1), x2 - x1, y2 - y1, fill=False, edgecolor=color, lw=1))\n",
    "        axes[batch].scatter(line_x[batch, i] + fm_offset, line_y[batch, i] + fm_offset, c=color, s=1)\n",
    "\n",
    "for ax in axes:\n",
    "    ax.axis('off')\n",
    "\n",
    "plt.show()"
   ]
  }
 ],
 "metadata": {
  "kernelspec": {
   "display_name": "roof_spotter",
   "language": "python",
   "name": "python3"
  },
  "language_info": {
   "codemirror_mode": {
    "name": "ipython",
    "version": 3
   },
   "file_extension": ".py",
   "mimetype": "text/x-python",
   "name": "python",
   "nbconvert_exporter": "python",
   "pygments_lexer": "ipython3",
   "version": "3.10.13"
  }
 },
 "nbformat": 4,
 "nbformat_minor": 2
}
