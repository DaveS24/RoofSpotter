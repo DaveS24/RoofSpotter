{
 "cells": [
  {
   "cell_type": "code",
   "execution_count": 1,
   "metadata": {},
   "outputs": [],
   "source": [
    "import sys\n",
    "sys.path.append('../src')\n",
    "\n",
    "from data_loading import BavarianBuildingDataset\n",
    "from mask_rcnn import MaskRCNN"
   ]
  },
  {
   "cell_type": "code",
   "execution_count": 2,
   "metadata": {},
   "outputs": [],
   "source": [
    "dataset = BavarianBuildingDataset(image_dir='../data/bbd250-image', mask_dir='../data/bbd250-umring')"
   ]
  },
  {
   "cell_type": "code",
   "execution_count": 3,
   "metadata": {},
   "outputs": [
    {
     "name": "stdout",
     "output_type": "stream",
     "text": [
      "Model: \"Mask_RCNN\"\n",
      "__________________________________________________________________________________________________\n",
      " Layer (type)                   Output Shape         Param #     Connected to                     \n",
      "==================================================================================================\n",
      " input_image (InputLayer)       [(None, 250, 250, 3  0           []                               \n",
      "                                )]                                                                \n",
      "                                                                                                  \n",
      " Backbone (Functional)          (None, 8, 8, 2048)   23587712    ['input_image[0][0]']            \n",
      "                                                                                                  \n",
      " RPN (Functional)               [(None, 4),          9486944     ['Backbone[0][0]']               \n",
      "                                 (None, 2)]                                                       \n",
      "                                                                                                  \n",
      " ROI_Align (Functional)         (None, 7, 7, 2048)   0           ['Backbone[0][0]',               \n",
      "                                                                  'RPN[0][0]']                    \n",
      "                                                                                                  \n",
      " Classifier (Functional)        [(None, 2),          102771722   ['ROI_Align[0][0]']              \n",
      "                                 (None, 2, 4)]                                                    \n",
      "                                                                                                  \n",
      " Mask_Head (Functional)         (None, 14, 14, 2)    5571842     ['ROI_Align[0][0]']              \n",
      "                                                                                                  \n",
      "==================================================================================================\n",
      "Total params: 141,418,220\n",
      "Trainable params: 117,834,604\n",
      "Non-trainable params: 23,583,616\n",
      "__________________________________________________________________________________________________\n"
     ]
    }
   ],
   "source": [
    "model = MaskRCNN()\n",
    "model.model.summary()"
   ]
  }
 ],
 "metadata": {
  "kernelspec": {
   "display_name": "roof_spotter",
   "language": "python",
   "name": "python3"
  },
  "language_info": {
   "codemirror_mode": {
    "name": "ipython",
    "version": 3
   },
   "file_extension": ".py",
   "mimetype": "text/x-python",
   "name": "python",
   "nbconvert_exporter": "python",
   "pygments_lexer": "ipython3",
   "version": "3.10.13"
  }
 },
 "nbformat": 4,
 "nbformat_minor": 2
}
