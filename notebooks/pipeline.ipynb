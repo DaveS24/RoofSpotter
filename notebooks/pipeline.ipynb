{
 "cells": [
  {
   "cell_type": "code",
   "execution_count": 1,
   "metadata": {},
   "outputs": [],
   "source": [
    "import sys\n",
    "sys.path.append('../src')\n",
    "\n",
    "from data_loading import BavarianBuildingDataset\n",
    "from mask_rcnn import MaskRCNN"
   ]
  },
  {
   "cell_type": "code",
   "execution_count": 2,
   "metadata": {},
   "outputs": [],
   "source": [
    "dataset = BavarianBuildingDataset(image_dir='../data/bbd250-image', mask_dir='../data/bbd250-umring')"
   ]
  },
  {
   "cell_type": "code",
   "execution_count": 3,
   "metadata": {},
   "outputs": [
    {
     "name": "stdout",
     "output_type": "stream",
     "text": [
      "Model: \"Mask_RCNN\"\n",
      "_________________________________________________________________\n",
      " Layer (type)                Output Shape              Param #   \n",
      "=================================================================\n",
      " input_image (InputLayer)    [(16, 250, 250, 3)]       0         \n",
      "                                                                 \n",
      " Backbone (Functional)       (16, 8, 8, 2048)          23587712  \n",
      "                                                                 \n",
      " RPN (Functional)            (16, None, 4)             9601856   \n",
      "                                                                 \n",
      "=================================================================\n",
      "Total params: 33,189,568\n",
      "Trainable params: 9,605,952\n",
      "Non-trainable params: 23,583,616\n",
      "_________________________________________________________________\n"
     ]
    }
   ],
   "source": [
    "model = MaskRCNN()\n",
    "model.model.summary()"
   ]
  }
 ],
 "metadata": {
  "kernelspec": {
   "display_name": "roof_spotter",
   "language": "python",
   "name": "python3"
  },
  "language_info": {
   "codemirror_mode": {
    "name": "ipython",
    "version": 3
   },
   "file_extension": ".py",
   "mimetype": "text/x-python",
   "name": "python",
   "nbconvert_exporter": "python",
   "pygments_lexer": "ipython3",
   "version": "3.10.13"
  }
 },
 "nbformat": 4,
 "nbformat_minor": 2
}
