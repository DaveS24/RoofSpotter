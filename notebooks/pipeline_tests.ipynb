{
 "cells": [
  {
   "cell_type": "code",
   "execution_count": 1,
   "metadata": {},
   "outputs": [],
   "source": [
    "import sys\n",
    "\n",
    "sys.path.append('../src')\n",
    "from data_loading import BavarianBuildingDataset, generator\n",
    "from mask_rcnn import MaskRCNN\n",
    "from visualize import Visualizer"
   ]
  },
  {
   "cell_type": "code",
   "execution_count": 2,
   "metadata": {},
   "outputs": [],
   "source": [
    "dataset = BavarianBuildingDataset(image_dir='../data/bbd250-image', mask_dir='../data/bbd250-umring')"
   ]
  },
  {
   "cell_type": "code",
   "execution_count": 3,
   "metadata": {},
   "outputs": [
    {
     "name": "stdout",
     "output_type": "stream",
     "text": [
      "Backbone model input shape: (None, 250, 250, 3)\n",
      "Backbone model output shape: (None, 8, 8, 2048)\n",
      "RPN model input shape: (None, 250, 250, 3)\n",
      "RPN model output shape: [(None,), (None, 4)]\n",
      "ROI Align layer input shape: [(None, 8, 8, 2048), (None, 32, 4), (None, None, 4)]\n",
      "ROI Align layer output shape: (None, 32, 7, 7, 2048)\n",
      "Classifier model input shape: [(None, 8, 8, 2048), (None, 32, 4), (None, None, 4)]\n",
      "Classifier model output shape: [(None, 32, 2), (None, 32, 2, 4)]\n",
      "Mask head model input shape: [(None, 8, 8, 2048), (None, 32, 4), (None, None, 4)]\n",
      "Mask head model output shape: (None, 32, 14, 14, 2)\n"
     ]
    },
    {
     "ename": "TypeError",
     "evalue": "'Config' object is not subscriptable",
     "output_type": "error",
     "traceback": [
      "\u001b[1;31m---------------------------------------------------------------------------\u001b[0m",
      "\u001b[1;31mTypeError\u001b[0m                                 Traceback (most recent call last)",
      "Cell \u001b[1;32mIn[3], line 1\u001b[0m\n\u001b[1;32m----> 1\u001b[0m model \u001b[38;5;241m=\u001b[39m \u001b[43mMaskRCNN\u001b[49m\u001b[43m(\u001b[49m\u001b[43m)\u001b[49m\n\u001b[0;32m      2\u001b[0m model\u001b[38;5;241m.\u001b[39msummary()\n",
      "File \u001b[1;32mc:\\Users\\david\\programming\\Projects\\RoofSpotter\\notebooks\\../src\\mask_rcnn.py:37\u001b[0m, in \u001b[0;36mMaskRCNN.__init__\u001b[1;34m(self, config)\u001b[0m\n\u001b[0;32m     34\u001b[0m \u001b[38;5;28mprint\u001b[39m(\u001b[38;5;124m\"\u001b[39m\u001b[38;5;124mMask head model output shape:\u001b[39m\u001b[38;5;124m\"\u001b[39m, \u001b[38;5;28mself\u001b[39m\u001b[38;5;241m.\u001b[39mmask_head\u001b[38;5;241m.\u001b[39mlayer\u001b[38;5;241m.\u001b[39moutput_shape)\n\u001b[0;32m     36\u001b[0m \u001b[38;5;66;03m# Build the Mask R-CNN model\u001b[39;00m\n\u001b[1;32m---> 37\u001b[0m \u001b[38;5;28mself\u001b[39m\u001b[38;5;241m.\u001b[39mmodel \u001b[38;5;241m=\u001b[39m \u001b[38;5;28;43mself\u001b[39;49m\u001b[38;5;241;43m.\u001b[39;49m\u001b[43mbuild_model\u001b[49m\u001b[43m(\u001b[49m\u001b[43m)\u001b[49m\n",
      "File \u001b[1;32mc:\\Users\\david\\programming\\Projects\\RoofSpotter\\notebooks\\../src\\mask_rcnn.py:41\u001b[0m, in \u001b[0;36mMaskRCNN.build_model\u001b[1;34m(self)\u001b[0m\n\u001b[0;32m     39\u001b[0m \u001b[38;5;28;01mdef\u001b[39;00m \u001b[38;5;21mbuild_model\u001b[39m(\u001b[38;5;28mself\u001b[39m):\n\u001b[0;32m     40\u001b[0m     \u001b[38;5;66;03m# Get the input image\u001b[39;00m\n\u001b[1;32m---> 41\u001b[0m     input_image \u001b[38;5;241m=\u001b[39m tf\u001b[38;5;241m.\u001b[39mkeras\u001b[38;5;241m.\u001b[39mlayers\u001b[38;5;241m.\u001b[39mInput(shape\u001b[38;5;241m=\u001b[39m\u001b[38;5;28;43mself\u001b[39;49m\u001b[38;5;241;43m.\u001b[39;49m\u001b[43mconfig\u001b[49m\u001b[43m[\u001b[49m\u001b[38;5;124;43m'\u001b[39;49m\u001b[38;5;124;43minput_shape\u001b[39;49m\u001b[38;5;124;43m'\u001b[39;49m\u001b[43m]\u001b[49m)\n\u001b[0;32m     43\u001b[0m     \u001b[38;5;66;03m# Get the feature map from the backbone\u001b[39;00m\n\u001b[0;32m     44\u001b[0m     feature_map \u001b[38;5;241m=\u001b[39m \u001b[38;5;28mself\u001b[39m\u001b[38;5;241m.\u001b[39mbackbone(input_image)\n",
      "\u001b[1;31mTypeError\u001b[0m: 'Config' object is not subscriptable"
     ]
    }
   ],
   "source": [
    "model = MaskRCNN()\n",
    "model.summary()"
   ]
  },
  {
   "cell_type": "code",
   "execution_count": null,
   "metadata": {},
   "outputs": [],
   "source": [
    "gen = generator(dataset, dataset.train_test_val_split()[0], batch_size=32)\n",
    "images, masks = next(gen)\n",
    "\n",
    "testing_image = images[0]\n",
    "testing_mask = masks[0]\n",
    "\n",
    "Visualizer.display_sample(testing_image, testing_mask)"
   ]
  },
  {
   "cell_type": "code",
   "execution_count": null,
   "metadata": {},
   "outputs": [],
   "source": [
    "Visualizer.display_feature_maps(model.backbone, testing_image)"
   ]
  }
 ],
 "metadata": {
  "kernelspec": {
   "display_name": "roof_spotter",
   "language": "python",
   "name": "python3"
  },
  "language_info": {
   "codemirror_mode": {
    "name": "ipython",
    "version": 3
   },
   "file_extension": ".py",
   "mimetype": "text/x-python",
   "name": "python",
   "nbconvert_exporter": "python",
   "pygments_lexer": "ipython3",
   "version": "3.10.13"
  }
 },
 "nbformat": 4,
 "nbformat_minor": 2
}
