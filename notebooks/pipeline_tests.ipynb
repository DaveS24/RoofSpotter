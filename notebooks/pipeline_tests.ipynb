{
 "cells": [
  {
   "cell_type": "code",
   "execution_count": 1,
   "metadata": {},
   "outputs": [],
   "source": [
    "import sys\n",
    "\n",
    "sys.path.append('../src')\n",
    "from data_loading import BavarianBuildingDataset, generator\n",
    "from mask_rcnn import MaskRCNN\n",
    "from visualize import Visualizer"
   ]
  },
  {
   "cell_type": "code",
   "execution_count": 2,
   "metadata": {},
   "outputs": [],
   "source": [
    "dataset = BavarianBuildingDataset(image_dir='../data/bbd250-image', mask_dir='../data/bbd250-umring')"
   ]
  },
  {
   "cell_type": "code",
   "execution_count": 3,
   "metadata": {},
   "outputs": [
    {
     "name": "stdout",
     "output_type": "stream",
     "text": [
      "Backbone model input shape: (None, 250, 250, 3)\n",
      "Backbone model output shape: (None, 8, 8, 2048)\n",
      "RPN model input shape: (None, 250, 250, 3)\n",
      "RPN model output shape: [(None,), (None, 4)]\n"
     ]
    },
    {
     "ename": "ValueError",
     "evalue": "Exception encountered when calling layer \"lambda\" (type Lambda).\n\nDimension 0 in both shapes must be equal, but are 32 and 4. Shapes are [32,4] and [4,4]. for '{{node lambda/concat}} = ConcatV2[N=2, T=DT_FLOAT, Tidx=DT_INT32](Placeholder_1, lambda/stack, lambda/concat/axis)' with input shapes: [?,32,4], [?,4,4], [] and with computed input tensors: input[2] = <0>.\n\nCall arguments received by layer \"lambda\" (type Lambda):\n  • inputs=['tf.Tensor(shape=(None, 8, 8, 2048), dtype=float32)', 'tf.Tensor(shape=(None, 32, 4), dtype=float32)', 'tf.Tensor(shape=(None, None, 4), dtype=float32)']\n  • mask=None\n  • training=False",
     "output_type": "error",
     "traceback": [
      "\u001b[1;31m---------------------------------------------------------------------------\u001b[0m",
      "\u001b[1;31mValueError\u001b[0m                                Traceback (most recent call last)",
      "Cell \u001b[1;32mIn[3], line 1\u001b[0m\n\u001b[1;32m----> 1\u001b[0m model \u001b[38;5;241m=\u001b[39m \u001b[43mMaskRCNN\u001b[49m\u001b[43m(\u001b[49m\u001b[43m)\u001b[49m\n\u001b[0;32m      2\u001b[0m model\u001b[38;5;241m.\u001b[39msummary()\n",
      "File \u001b[1;32mc:\\Users\\david\\programming\\Projects\\RoofSpotter\\notebooks\\../src\\mask_rcnn.py:24\u001b[0m, in \u001b[0;36mMaskRCNN.__init__\u001b[1;34m(self, config)\u001b[0m\n\u001b[0;32m     21\u001b[0m \u001b[38;5;28mprint\u001b[39m(\u001b[38;5;124m\"\u001b[39m\u001b[38;5;124mRPN model input shape:\u001b[39m\u001b[38;5;124m\"\u001b[39m, \u001b[38;5;28mself\u001b[39m\u001b[38;5;241m.\u001b[39mrpn\u001b[38;5;241m.\u001b[39mmodel\u001b[38;5;241m.\u001b[39minput_shape)\n\u001b[0;32m     22\u001b[0m \u001b[38;5;28mprint\u001b[39m(\u001b[38;5;124m\"\u001b[39m\u001b[38;5;124mRPN model output shape:\u001b[39m\u001b[38;5;124m\"\u001b[39m, \u001b[38;5;28mself\u001b[39m\u001b[38;5;241m.\u001b[39mrpn\u001b[38;5;241m.\u001b[39mmodel\u001b[38;5;241m.\u001b[39moutput_shape)\n\u001b[1;32m---> 24\u001b[0m \u001b[38;5;28mself\u001b[39m\u001b[38;5;241m.\u001b[39mroi_align_layer \u001b[38;5;241m=\u001b[39m \u001b[43mROIAlignLayer\u001b[49m\u001b[43m(\u001b[49m\u001b[38;5;28;43mself\u001b[39;49m\u001b[38;5;241;43m.\u001b[39;49m\u001b[43mbackbone\u001b[49m\u001b[43m,\u001b[49m\u001b[43m \u001b[49m\u001b[38;5;28;43mself\u001b[39;49m\u001b[38;5;241;43m.\u001b[39;49m\u001b[43mconfig\u001b[49m\u001b[38;5;241;43m.\u001b[39;49m\u001b[43mpool_size\u001b[49m\u001b[43m,\u001b[49m\u001b[43m \u001b[49m\u001b[38;5;28;43mself\u001b[39;49m\u001b[38;5;241;43m.\u001b[39;49m\u001b[43mconfig\u001b[49m\u001b[38;5;241;43m.\u001b[39;49m\u001b[43mnum_rois\u001b[49m\u001b[43m)\u001b[49m\n\u001b[0;32m     25\u001b[0m \u001b[38;5;28mself\u001b[39m\u001b[38;5;241m.\u001b[39mclassifier \u001b[38;5;241m=\u001b[39m Classifier(\u001b[38;5;28mself\u001b[39m\u001b[38;5;241m.\u001b[39mroi_align_layer, \u001b[38;5;28mself\u001b[39m\u001b[38;5;241m.\u001b[39mconfig\u001b[38;5;241m.\u001b[39mnum_classes)\n\u001b[0;32m     26\u001b[0m \u001b[38;5;28mself\u001b[39m\u001b[38;5;241m.\u001b[39mmask_head \u001b[38;5;241m=\u001b[39m MaskHead(\u001b[38;5;28mself\u001b[39m\u001b[38;5;241m.\u001b[39mroi_align_layer, \u001b[38;5;28mself\u001b[39m\u001b[38;5;241m.\u001b[39mconfig\u001b[38;5;241m.\u001b[39mnum_classes)\n",
      "File \u001b[1;32mc:\\Users\\david\\programming\\Projects\\RoofSpotter\\notebooks\\../src\\roi_align.py:9\u001b[0m, in \u001b[0;36mROIAlignLayer.__init__\u001b[1;34m(self, backbone, pool_size, num_rois)\u001b[0m\n\u001b[0;32m      7\u001b[0m \u001b[38;5;28mself\u001b[39m\u001b[38;5;241m.\u001b[39mpool_size \u001b[38;5;241m=\u001b[39m pool_size\n\u001b[0;32m      8\u001b[0m \u001b[38;5;28mself\u001b[39m\u001b[38;5;241m.\u001b[39mnum_rois \u001b[38;5;241m=\u001b[39m num_rois\n\u001b[1;32m----> 9\u001b[0m \u001b[38;5;28mself\u001b[39m\u001b[38;5;241m.\u001b[39mlayer \u001b[38;5;241m=\u001b[39m \u001b[38;5;28;43mself\u001b[39;49m\u001b[38;5;241;43m.\u001b[39;49m\u001b[43mbuild_layer\u001b[49m\u001b[43m(\u001b[49m\u001b[43m)\u001b[49m\n",
      "File \u001b[1;32mc:\\Users\\david\\programming\\Projects\\RoofSpotter\\notebooks\\../src\\roi_align.py:43\u001b[0m, in \u001b[0;36mROIAlignLayer.build_layer\u001b[1;34m(self)\u001b[0m\n\u001b[0;32m     40\u001b[0m rpn_proposals_input \u001b[38;5;241m=\u001b[39m tf\u001b[38;5;241m.\u001b[39mkeras\u001b[38;5;241m.\u001b[39mlayers\u001b[38;5;241m.\u001b[39mInput(shape\u001b[38;5;241m=\u001b[39m(\u001b[38;5;28;01mNone\u001b[39;00m, \u001b[38;5;241m4\u001b[39m))\n\u001b[0;32m     42\u001b[0m \u001b[38;5;66;03m# Apply the ROIAlign layer\u001b[39;00m\n\u001b[1;32m---> 43\u001b[0m x \u001b[38;5;241m=\u001b[39m \u001b[43mtf\u001b[49m\u001b[38;5;241;43m.\u001b[39;49m\u001b[43mkeras\u001b[49m\u001b[38;5;241;43m.\u001b[39;49m\u001b[43mlayers\u001b[49m\u001b[38;5;241;43m.\u001b[39;49m\u001b[43mLambda\u001b[49m\u001b[43m(\u001b[49m\u001b[38;5;28;43mself\u001b[39;49m\u001b[38;5;241;43m.\u001b[39;49m\u001b[43mroi_align\u001b[49m\u001b[43m)\u001b[49m\u001b[43m(\u001b[49m\u001b[43m[\u001b[49m\u001b[43mfeature_map_input\u001b[49m\u001b[43m,\u001b[49m\u001b[43m \u001b[49m\u001b[43mrois_input\u001b[49m\u001b[43m,\u001b[49m\u001b[43m \u001b[49m\u001b[43mrpn_proposals_input\u001b[49m\u001b[43m]\u001b[49m\u001b[43m)\u001b[49m\n\u001b[0;32m     45\u001b[0m \u001b[38;5;66;03m# Create the layer\u001b[39;00m\n\u001b[0;32m     46\u001b[0m layer \u001b[38;5;241m=\u001b[39m tf\u001b[38;5;241m.\u001b[39mkeras\u001b[38;5;241m.\u001b[39mModel(inputs\u001b[38;5;241m=\u001b[39m[feature_map_input, rois_input, rpn_proposals_input], outputs\u001b[38;5;241m=\u001b[39mx)\n",
      "File \u001b[1;32mc:\\Users\\david\\anaconda3\\envs\\roof_spotter\\lib\\site-packages\\keras\\utils\\traceback_utils.py:70\u001b[0m, in \u001b[0;36mfilter_traceback.<locals>.error_handler\u001b[1;34m(*args, **kwargs)\u001b[0m\n\u001b[0;32m     67\u001b[0m     filtered_tb \u001b[38;5;241m=\u001b[39m _process_traceback_frames(e\u001b[38;5;241m.\u001b[39m__traceback__)\n\u001b[0;32m     68\u001b[0m     \u001b[38;5;66;03m# To get the full stack trace, call:\u001b[39;00m\n\u001b[0;32m     69\u001b[0m     \u001b[38;5;66;03m# `tf.debugging.disable_traceback_filtering()`\u001b[39;00m\n\u001b[1;32m---> 70\u001b[0m     \u001b[38;5;28;01mraise\u001b[39;00m e\u001b[38;5;241m.\u001b[39mwith_traceback(filtered_tb) \u001b[38;5;28;01mfrom\u001b[39;00m \u001b[38;5;28;01mNone\u001b[39;00m\n\u001b[0;32m     71\u001b[0m \u001b[38;5;28;01mfinally\u001b[39;00m:\n\u001b[0;32m     72\u001b[0m     \u001b[38;5;28;01mdel\u001b[39;00m filtered_tb\n",
      "File \u001b[1;32mc:\\Users\\david\\programming\\Projects\\RoofSpotter\\notebooks\\../src\\roi_align.py:26\u001b[0m, in \u001b[0;36mROIAlignLayer.roi_align\u001b[1;34m(self, inputs)\u001b[0m\n\u001b[0;32m     18\u001b[0m rpn_proposals \u001b[38;5;241m=\u001b[39m tf\u001b[38;5;241m.\u001b[39mstack([\n\u001b[0;32m     19\u001b[0m     rpn_proposals[:, \u001b[38;5;241m1\u001b[39m],  \u001b[38;5;66;03m# y1\u001b[39;00m\n\u001b[0;32m     20\u001b[0m     rpn_proposals[:, \u001b[38;5;241m0\u001b[39m],  \u001b[38;5;66;03m# x1\u001b[39;00m\n\u001b[0;32m     21\u001b[0m     rpn_proposals[:, \u001b[38;5;241m3\u001b[39m],  \u001b[38;5;66;03m# y2\u001b[39;00m\n\u001b[0;32m     22\u001b[0m     rpn_proposals[:, \u001b[38;5;241m2\u001b[39m]   \u001b[38;5;66;03m# x2\u001b[39;00m\n\u001b[0;32m     23\u001b[0m ], axis\u001b[38;5;241m=\u001b[39m\u001b[38;5;241m-\u001b[39m\u001b[38;5;241m1\u001b[39m)\n\u001b[0;32m     25\u001b[0m \u001b[38;5;66;03m# Combine the ROIs and RPN proposals\u001b[39;00m\n\u001b[1;32m---> 26\u001b[0m combined_rois \u001b[38;5;241m=\u001b[39m \u001b[43mtf\u001b[49m\u001b[38;5;241;43m.\u001b[39;49m\u001b[43mconcat\u001b[49m\u001b[43m(\u001b[49m\u001b[43m[\u001b[49m\u001b[43mrois\u001b[49m\u001b[43m,\u001b[49m\u001b[43m \u001b[49m\u001b[43mrpn_proposals\u001b[49m\u001b[43m]\u001b[49m\u001b[43m,\u001b[49m\u001b[43m \u001b[49m\u001b[43maxis\u001b[49m\u001b[38;5;241;43m=\u001b[39;49m\u001b[38;5;241;43m0\u001b[39;49m\u001b[43m)\u001b[49m\n\u001b[0;32m     28\u001b[0m \u001b[38;5;66;03m# Normalize the coordinates of the ROIs by the spatial dimension of the feature map\u001b[39;00m\n\u001b[0;32m     29\u001b[0m rois_norm \u001b[38;5;241m=\u001b[39m combined_rois \u001b[38;5;241m/\u001b[39m tf\u001b[38;5;241m.\u001b[39mcast(tf\u001b[38;5;241m.\u001b[39mshape(feature_map)[\u001b[38;5;241m1\u001b[39m:\u001b[38;5;241m3\u001b[39m], tf\u001b[38;5;241m.\u001b[39mfloat32)\n",
      "\u001b[1;31mValueError\u001b[0m: Exception encountered when calling layer \"lambda\" (type Lambda).\n\nDimension 0 in both shapes must be equal, but are 32 and 4. Shapes are [32,4] and [4,4]. for '{{node lambda/concat}} = ConcatV2[N=2, T=DT_FLOAT, Tidx=DT_INT32](Placeholder_1, lambda/stack, lambda/concat/axis)' with input shapes: [?,32,4], [?,4,4], [] and with computed input tensors: input[2] = <0>.\n\nCall arguments received by layer \"lambda\" (type Lambda):\n  • inputs=['tf.Tensor(shape=(None, 8, 8, 2048), dtype=float32)', 'tf.Tensor(shape=(None, 32, 4), dtype=float32)', 'tf.Tensor(shape=(None, None, 4), dtype=float32)']\n  • mask=None\n  • training=False"
     ]
    }
   ],
   "source": [
    "model = MaskRCNN()\n",
    "model.summary()"
   ]
  },
  {
   "cell_type": "code",
   "execution_count": null,
   "metadata": {},
   "outputs": [],
   "source": [
    "gen = generator(dataset, dataset.train_test_val_split()[0], batch_size=32)\n",
    "images, masks = next(gen)\n",
    "\n",
    "testing_image = images[0]\n",
    "testing_mask = masks[0]\n",
    "\n",
    "Visualizer.display_sample(testing_image, testing_mask)"
   ]
  },
  {
   "cell_type": "code",
   "execution_count": null,
   "metadata": {},
   "outputs": [],
   "source": [
    "Visualizer.display_feature_maps(model.backbone, testing_image)"
   ]
  }
 ],
 "metadata": {
  "kernelspec": {
   "display_name": "roof_spotter",
   "language": "python",
   "name": "python3"
  },
  "language_info": {
   "codemirror_mode": {
    "name": "ipython",
    "version": 3
   },
   "file_extension": ".py",
   "mimetype": "text/x-python",
   "name": "python",
   "nbconvert_exporter": "python",
   "pygments_lexer": "ipython3",
   "version": "3.10.13"
  }
 },
 "nbformat": 4,
 "nbformat_minor": 2
}
